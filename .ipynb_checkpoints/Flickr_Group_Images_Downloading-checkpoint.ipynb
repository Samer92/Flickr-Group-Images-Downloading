{
 "cells": [
  {
   "cell_type": "code",
   "execution_count": 1,
   "metadata": {},
   "outputs": [],
   "source": [
    "# Some useful URLs: \n",
    "# 1- https://www.programcreek.com/python/example/6468/flickrapi.FlickrAPI\n",
    "# 2- http://joequery.me/code/flickr-api-image-search-python/\n",
    "# 3- https://gist.github.com/yunjey/14e3a069ad2aa3adf72dee93a53117d6\n",
    "# 4- https://gist.github.com/eviatarbach/a93df6ed597291a0a741"
   ]
  },
  {
   "cell_type": "code",
   "execution_count": null,
   "metadata": {},
   "outputs": [],
   "source": [
    "# The required dependencies\n",
    "!pip install flickrapi\n",
    "!pip install requests"
   ]
  },
  {
   "cell_type": "code",
   "execution_count": 27,
   "metadata": {},
   "outputs": [],
   "source": [
    "from flickrapi import FlickrAPI\n",
    "import requests\n",
    "import json\n",
    "import os"
   ]
  },
  {
   "cell_type": "code",
   "execution_count": 34,
   "metadata": {},
   "outputs": [],
   "source": [
    "class Flickr:\n",
    "    \"\"\" This class is to collect images from a Flickr group \"\"\"\n",
    "    def __init__(self, api_key, api_secret):\n",
    "        self.api = FlickrAPI(api_key, api_secret, format='parsed-json')\n",
    "    \n",
    "    def get_images_urls_metadata(self, group_id, num_images, extras):\n",
    "        \"\"\"\n",
    "        This function returns the images urls and images metadata from the selected group\n",
    "        \"\"\"\n",
    "        images = []\n",
    "        photos = self.api.groups.pools.getPhotos(group_id=group_id, extras=extras)\n",
    "        \n",
    "        print('Start Collecting...')\n",
    "        \n",
    "        for page in range(1, photos['photos']['pages']):\n",
    "            photos = self.api.groups.pools.getPhotos(group_id=group_id, extras=extras, page=page)\n",
    "            \n",
    "            for photo in photos['photos']['photo']:\n",
    "                if len(images) % 10 == 0:\n",
    "                    print('{} images have been collected'.format(len(images)))\n",
    "                \n",
    "                if len(images) == num_images:\n",
    "                    return images\n",
    "                \n",
    "                try:\n",
    "                    # Some images are not available with the required resolution or \n",
    "                    # some of the images are without metadata\n",
    "                    photo_id = photo['id']\n",
    "                    tags = self.api.photos_getExif(photo_id=photo_id)\n",
    "                    images.append((photo[extras], str(photo['id']), tags))\n",
    "                    \n",
    "                except Exception as e:\n",
    "                    pass\n",
    "                \n",
    "        return images\n",
    "    \n",
    "    \n",
    "    def download(self, group_id, num_images, extras, destination_dir):\n",
    "        \"\"\"\n",
    "        This function downloads the images from the selected group\n",
    "        Inputs:\n",
    "        group_id: the group_id to download  images from\n",
    "        num_images: number of images to be downloaded\n",
    "        extras: the required resolution of the images\n",
    "        destination_dir: the directory path to save the downloaded images\n",
    "        \"\"\"\n",
    "        \n",
    "        images = self.get_images_urls_metadata(group_id, num_images, extras)\n",
    "        \n",
    "        for url, id_, metadata in images:\n",
    "            # Request the image from the source\n",
    "            response = requests.get(url)\n",
    "            \n",
    "            # Write the image in the selected directory\n",
    "            with open(os.path.join(destination_dir, (id_ + '.jpg')), 'wb') as img:\n",
    "                img.write(response.content)\n",
    "            \n",
    "            # Write the metadata to a json file\n",
    "            with open(os.path.join(destination_dir, (id_ + '.json')), 'w') as f:\n",
    "                json.dump(metadata, f)"
   ]
  },
  {
   "cell_type": "code",
   "execution_count": 35,
   "metadata": {},
   "outputs": [],
   "source": [
    "# For authentication\n",
    "api_key = 'xxxxxxxxxxxxxxxxxxx'\n",
    "api_secret = 'xxxxxxxxxxxxxxxx'\n",
    "\n",
    "# For data collection\n",
    "group_id = '340319@N24'\n",
    "num_images = 10\n",
    "extras = 'url_o'\n",
    "destination_dir = r'D:\\GitHub\\Flickr-Group-Images-Downloading\\images'\n",
    "\n",
    "\n",
    "flickr = Flickr(api_key, api_secret)"
   ]
  },
  {
   "cell_type": "code",
   "execution_count": 36,
   "metadata": {},
   "outputs": [
    {
     "name": "stdout",
     "output_type": "stream",
     "text": [
      "Start Collecting...\n",
      "0 images have been collected\n",
      "0 images have been collected\n",
      "10 images have been collected\n"
     ]
    }
   ],
   "source": [
    "flickr.download(group_id, num_images, extras, destination_dir)"
   ]
  },
  {
   "cell_type": "code",
   "execution_count": null,
   "metadata": {},
   "outputs": [],
   "source": []
  }
 ],
 "metadata": {
  "kernelspec": {
   "display_name": "Python 3",
   "language": "python",
   "name": "python3"
  },
  "language_info": {
   "codemirror_mode": {
    "name": "ipython",
    "version": 3
   },
   "file_extension": ".py",
   "mimetype": "text/x-python",
   "name": "python",
   "nbconvert_exporter": "python",
   "pygments_lexer": "ipython3",
   "version": "3.6.8"
  }
 },
 "nbformat": 4,
 "nbformat_minor": 2
}
